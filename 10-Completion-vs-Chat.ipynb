{
  "nbformat": 4,
  "nbformat_minor": 0,
  "metadata": {
    "colab": {
      "provenance": [],
      "authorship_tag": "ABX9TyP0iT2iNYRUyKO6coHfX+bm",
      "include_colab_link": true
    },
    "kernelspec": {
      "name": "python3",
      "display_name": "Python 3"
    },
    "language_info": {
      "name": "python"
    }
  },
  "cells": [
    {
      "cell_type": "markdown",
      "metadata": {
        "id": "view-in-github",
        "colab_type": "text"
      },
      "source": [
        "<a href=\"https://colab.research.google.com/github/JSJeong-me/GPT-for-beginner/blob/main/10-Completion-vs-Chat.ipynb\" target=\"_parent\"><img src=\"https://colab.research.google.com/assets/colab-badge.svg\" alt=\"Open In Colab\"/></a>"
      ]
    },
    {
      "cell_type": "code",
      "execution_count": null,
      "metadata": {
        "id": "JqFOCgEq7Bma"
      },
      "outputs": [],
      "source": [
        "!pip install openai"
      ]
    },
    {
      "cell_type": "code",
      "source": [
        "import openai\n",
        "\n",
        "openai.api_key = 'your-api-key-here'"
      ],
      "metadata": {
        "id": "RfpvaIJx7DNa"
      },
      "execution_count": null,
      "outputs": []
    },
    {
      "cell_type": "markdown",
      "source": [
        "Chat 예제\n",
        "Chat 기능을 사용하여 간단한 대화를 수행하는 예제입니다."
      ],
      "metadata": {
        "id": "qQhC5uZU7HvG"
      }
    },
    {
      "cell_type": "code",
      "source": [
        "import openai\n",
        "\n",
        "def chat_with_gpt(messages):\n",
        "    response = openai.ChatCompletion.create(\n",
        "        model=\"gpt-4\",\n",
        "        messages=messages\n",
        "    )\n",
        "    return response.choices[0].message['content']\n",
        "\n",
        "# 초기 메시지 설정\n",
        "messages = [\n",
        "    {\"role\": \"system\", \"content\": \"당신은 도움이 되는 어시스턴트입니다.\"},\n",
        "    {\"role\": \"user\", \"content\": \"안녕하세요, 잘 지내시나요?\"}\n",
        "]\n",
        "\n",
        "# 첫 번째 대화\n",
        "response = chat_with_gpt(messages)\n",
        "print(\"Assistant:\", response)\n",
        "\n",
        "# 대화 계속하기\n",
        "messages.append({\"role\": \"assistant\", \"content\": response})\n",
        "messages.append({\"role\": \"user\", \"content\": \"재밌는 농담 하나 해주세요.\"})\n",
        "\n",
        "response = chat_with_gpt(messages)\n",
        "print(\"Assistant:\", response)"
      ],
      "metadata": {
        "id": "JXjhYtZr7FFY"
      },
      "execution_count": null,
      "outputs": []
    },
    {
      "cell_type": "markdown",
      "source": [
        "Completion 예제\n",
        "Completion 기능을 사용하여 텍스트를 완성하는 예제입니다."
      ],
      "metadata": {
        "id": "nZAwN6907Lpb"
      }
    },
    {
      "cell_type": "code",
      "source": [
        "import openai\n",
        "\n",
        "def complete_text(prompt):\n",
        "    response = openai.Completion.create(\n",
        "        model=\"text-davinci-003\",\n",
        "        prompt=prompt,\n",
        "        max_tokens=50\n",
        "    )\n",
        "    return response.choices[0].text.strip()\n",
        "\n",
        "# 텍스트 완성 예제\n",
        "prompt = \"옛날 옛적에 먼 나라에\"\n",
        "response = complete_text(prompt)\n",
        "print(\"Completion:\", response)\n",
        "\n",
        "# 추가 프롬프트 예제\n",
        "prompt = \"빠른 갈색 여우가 게으른\"\n",
        "response = complete_text(prompt)\n",
        "print(\"Completion:\", response)"
      ],
      "metadata": {
        "id": "b1W-94IF7QNE"
      },
      "execution_count": null,
      "outputs": []
    },
    {
      "cell_type": "markdown",
      "source": [
        "전체 프로그램\n",
        "위의 두 예제를 하나의 프로그램으로 합쳐서 보여드립니다."
      ],
      "metadata": {
        "id": "3q3Eeb0e7U8m"
      }
    },
    {
      "cell_type": "code",
      "source": [
        "import openai\n",
        "\n",
        "# API 키 설정\n",
        "openai.api_key = 'your-api-key-here'\n",
        "\n",
        "# Chat 예제 함수\n",
        "def chat_with_gpt(messages):\n",
        "    response = openai.ChatCompletion.create(\n",
        "        model=\"gpt-4\",\n",
        "        messages=messages\n",
        "    )\n",
        "    return response.choices[0].message['content']\n",
        "\n",
        "# Completion 예제 함수\n",
        "def complete_text(prompt):\n",
        "    response = openai.Completion.create(\n",
        "        model=\"text-davinci-003\",\n",
        "        prompt=prompt,\n",
        "        max_tokens=50\n",
        "    )\n",
        "    return response.choices[0].text.strip()\n",
        "\n",
        "# Chat 예제 실행\n",
        "print(\"Chat Example:\")\n",
        "messages = [\n",
        "    {\"role\": \"system\", \"content\": \"당신은 도움이 되는 어시스턴트입니다.\"},\n",
        "    {\"role\": \"user\", \"content\": \"안녕하세요, 잘 지내시나요?\"}\n",
        "]\n",
        "\n",
        "response = chat_with_gpt(messages)\n",
        "print(\"Assistant:\", response)\n",
        "\n",
        "messages.append({\"role\": \"assistant\", \"content\": response})\n",
        "messages.append({\"role\": \"user\", \"content\": \"재밌는 농담 하나 해주세요.\"})\n",
        "\n",
        "response = chat_with_gpt(messages)\n",
        "print(\"Assistant:\", response)\n",
        "\n",
        "# Completion 예제 실행\n",
        "print(\"\\nCompletion Example:\")\n",
        "prompt1 = \"옛날 옛적에 먼 나라에\"\n",
        "response1 = complete_text(prompt1)\n",
        "print(\"Completion 1:\", response1)\n",
        "\n",
        "prompt2 = \"빠른 갈색 여우가 게으른\"\n",
        "response2 = complete_text(prompt2)\n",
        "print(\"Completion 2:\", response2)\n"
      ],
      "metadata": {
        "id": "nTUh1Cb47WJs"
      },
      "execution_count": null,
      "outputs": []
    }
  ]
}